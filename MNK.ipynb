{
 "cells": [
  {
   "cell_type": "markdown",
   "metadata": {},
   "source": [
    "# Modelowanie przy użyciu metody najmniejszych kwadratów"
   ]
  },
  {
   "cell_type": "markdown",
   "metadata": {},
   "source": [
    "W pierwszym podejściu, modelujemy zadane wyjścia przy zastosowaniu metody najmniejszych kwadratów. Przetestowane zostaną modele liniowe oraz nieliniowe o różnych stopniach nielinowości."
   ]
  },
  {
   "cell_type": "markdown",
   "metadata": {},
   "source": [
    "### Zaimportuj potrzebne biblioteki"
   ]
  },
  {
   "cell_type": "code",
   "execution_count": 1,
   "metadata": {},
   "outputs": [
    {
     "name": "stdout",
     "output_type": "stream",
     "text": [
      "pandas version: 1.0.1\n",
      "numpy version: 1.18.1\n",
      "matplotlib version: 3.2.0\n"
     ]
    }
   ],
   "source": [
    "import pandas as pd\n",
    "import numpy as np\n",
    "import matplotlib as mpl\n",
    "import matplotlib.pyplot as plt\n",
    "%matplotlib inline\n",
    "\n",
    "from sklearn.linear_model import LinearRegression\n",
    "from sklearn.metrics import r2_score\n",
    "\n",
    "print(\"pandas version: {}\".format(pd.__version__))\n",
    "print(\"numpy version: {}\".format(np.__version__))\n",
    "print(\"matplotlib version: {}\".format(mpl.__version__))"
   ]
  },
  {
   "cell_type": "markdown",
   "metadata": {},
   "source": [
    "### Zamień datę na sekundy od początku eksperymentu"
   ]
  },
  {
   "cell_type": "code",
   "execution_count": 2,
   "metadata": {},
   "outputs": [],
   "source": [
    "def changeDateToSeconds(df):\n",
    "    first = df[\"date\"][0]\n",
    "    df[\"date\"] = df[\"date\"].apply(lambda timestamp: (timestamp-first).seconds)\n",
    "    return df"
   ]
  },
  {
   "cell_type": "markdown",
   "metadata": {},
   "source": [
    "### Wczytaj dane"
   ]
  },
  {
   "cell_type": "code",
   "execution_count": 3,
   "metadata": {},
   "outputs": [],
   "source": [
    "def readDataFromExcel(path, sheet):\n",
    "    df = pd.read_excel(path, sheet_name=sheet)\n",
    "    df[\"date\"] = pd.to_datetime(df[\"date\"])\n",
    "    df = changeDateToSeconds(df)\n",
    "    return df"
   ]
  },
  {
   "cell_type": "markdown",
   "metadata": {},
   "source": [
    "### Wczytaj zbiór uczący i weryfikacyjny"
   ]
  },
  {
   "cell_type": "code",
   "execution_count": 4,
   "metadata": {},
   "outputs": [],
   "source": [
    "df_learn = readDataFromExcel(\"./data/K-1_MI.xlsx\", \"d2\")\n",
    "df_verif = readDataFromExcel(\"./data/K-1_MI.xlsx\", \"d6\")"
   ]
  },
  {
   "cell_type": "markdown",
   "metadata": {},
   "source": [
    "### Zbiór uczący "
   ]
  },
  {
   "cell_type": "code",
   "execution_count": 5,
   "metadata": {
    "scrolled": true
   },
   "outputs": [
    {
     "data": {
      "text/html": [
       "<div>\n",
       "<style scoped>\n",
       "    .dataframe tbody tr th:only-of-type {\n",
       "        vertical-align: middle;\n",
       "    }\n",
       "\n",
       "    .dataframe tbody tr th {\n",
       "        vertical-align: top;\n",
       "    }\n",
       "\n",
       "    .dataframe thead th {\n",
       "        text-align: right;\n",
       "    }\n",
       "</style>\n",
       "<table border=\"1\" class=\"dataframe\">\n",
       "  <thead>\n",
       "    <tr style=\"text-align: right;\">\n",
       "      <th></th>\n",
       "      <th>date</th>\n",
       "      <th>FP05</th>\n",
       "      <th>LT1</th>\n",
       "      <th>LT2</th>\n",
       "      <th>LT3</th>\n",
       "      <th>LT4</th>\n",
       "      <th>TMA</th>\n",
       "      <th>TMB</th>\n",
       "      <th>TMC</th>\n",
       "      <th>TMD</th>\n",
       "      <th>...</th>\n",
       "      <th>PTWS</th>\n",
       "      <th>TW02</th>\n",
       "      <th>TW01</th>\n",
       "      <th>FW03</th>\n",
       "      <th>TW04</th>\n",
       "      <th>TW03</th>\n",
       "      <th>FW04</th>\n",
       "      <th>TTWT</th>\n",
       "      <th>PTWT</th>\n",
       "      <th>PPW</th>\n",
       "    </tr>\n",
       "  </thead>\n",
       "  <tbody>\n",
       "    <tr>\n",
       "      <th>0</th>\n",
       "      <td>0</td>\n",
       "      <td>1068.9575</td>\n",
       "      <td>21.4107</td>\n",
       "      <td>11.6199</td>\n",
       "      <td>11.714</td>\n",
       "      <td>18.8643</td>\n",
       "      <td>43.8947</td>\n",
       "      <td>76.1302</td>\n",
       "      <td>75.8843</td>\n",
       "      <td>74.866</td>\n",
       "      <td>...</td>\n",
       "      <td>19.3311</td>\n",
       "      <td>539.8597</td>\n",
       "      <td>301.2129</td>\n",
       "      <td>9.4894</td>\n",
       "      <td>539.5955</td>\n",
       "      <td>290.8920</td>\n",
       "      <td>14.2998</td>\n",
       "      <td>177.7786</td>\n",
       "      <td>10.3202</td>\n",
       "      <td>3.5039</td>\n",
       "    </tr>\n",
       "    <tr>\n",
       "      <th>1</th>\n",
       "      <td>10</td>\n",
       "      <td>1068.9575</td>\n",
       "      <td>21.4107</td>\n",
       "      <td>11.6199</td>\n",
       "      <td>11.714</td>\n",
       "      <td>18.8643</td>\n",
       "      <td>43.8947</td>\n",
       "      <td>76.1302</td>\n",
       "      <td>75.8843</td>\n",
       "      <td>74.866</td>\n",
       "      <td>...</td>\n",
       "      <td>19.3311</td>\n",
       "      <td>539.8597</td>\n",
       "      <td>301.2129</td>\n",
       "      <td>9.4894</td>\n",
       "      <td>539.5955</td>\n",
       "      <td>290.8920</td>\n",
       "      <td>14.2998</td>\n",
       "      <td>177.7786</td>\n",
       "      <td>10.3202</td>\n",
       "      <td>3.5039</td>\n",
       "    </tr>\n",
       "    <tr>\n",
       "      <th>2</th>\n",
       "      <td>20</td>\n",
       "      <td>1068.9575</td>\n",
       "      <td>21.4107</td>\n",
       "      <td>11.6199</td>\n",
       "      <td>11.714</td>\n",
       "      <td>18.8643</td>\n",
       "      <td>43.8947</td>\n",
       "      <td>76.1302</td>\n",
       "      <td>75.8843</td>\n",
       "      <td>74.866</td>\n",
       "      <td>...</td>\n",
       "      <td>19.3147</td>\n",
       "      <td>539.8597</td>\n",
       "      <td>301.2129</td>\n",
       "      <td>9.4894</td>\n",
       "      <td>539.5955</td>\n",
       "      <td>292.1826</td>\n",
       "      <td>14.2998</td>\n",
       "      <td>177.7786</td>\n",
       "      <td>10.3202</td>\n",
       "      <td>3.4937</td>\n",
       "    </tr>\n",
       "    <tr>\n",
       "      <th>3</th>\n",
       "      <td>30</td>\n",
       "      <td>1068.9575</td>\n",
       "      <td>21.4107</td>\n",
       "      <td>11.6199</td>\n",
       "      <td>11.714</td>\n",
       "      <td>18.8643</td>\n",
       "      <td>43.8947</td>\n",
       "      <td>76.1302</td>\n",
       "      <td>75.8843</td>\n",
       "      <td>74.866</td>\n",
       "      <td>...</td>\n",
       "      <td>19.3298</td>\n",
       "      <td>539.8597</td>\n",
       "      <td>302.4265</td>\n",
       "      <td>9.4894</td>\n",
       "      <td>539.5955</td>\n",
       "      <td>292.1826</td>\n",
       "      <td>14.2998</td>\n",
       "      <td>177.7786</td>\n",
       "      <td>10.3202</td>\n",
       "      <td>3.4937</td>\n",
       "    </tr>\n",
       "    <tr>\n",
       "      <th>4</th>\n",
       "      <td>40</td>\n",
       "      <td>1068.9575</td>\n",
       "      <td>21.4107</td>\n",
       "      <td>11.6199</td>\n",
       "      <td>11.714</td>\n",
       "      <td>18.8643</td>\n",
       "      <td>43.8947</td>\n",
       "      <td>76.1302</td>\n",
       "      <td>75.8843</td>\n",
       "      <td>74.866</td>\n",
       "      <td>...</td>\n",
       "      <td>19.3298</td>\n",
       "      <td>539.8597</td>\n",
       "      <td>302.4265</td>\n",
       "      <td>9.4894</td>\n",
       "      <td>539.5955</td>\n",
       "      <td>292.1826</td>\n",
       "      <td>14.2998</td>\n",
       "      <td>177.7786</td>\n",
       "      <td>10.3202</td>\n",
       "      <td>3.4937</td>\n",
       "    </tr>\n",
       "  </tbody>\n",
       "</table>\n",
       "<p>5 rows × 57 columns</p>\n",
       "</div>"
      ],
      "text/plain": [
       "   date       FP05      LT1      LT2     LT3      LT4      TMA      TMB  \\\n",
       "0     0  1068.9575  21.4107  11.6199  11.714  18.8643  43.8947  76.1302   \n",
       "1    10  1068.9575  21.4107  11.6199  11.714  18.8643  43.8947  76.1302   \n",
       "2    20  1068.9575  21.4107  11.6199  11.714  18.8643  43.8947  76.1302   \n",
       "3    30  1068.9575  21.4107  11.6199  11.714  18.8643  43.8947  76.1302   \n",
       "4    40  1068.9575  21.4107  11.6199  11.714  18.8643  43.8947  76.1302   \n",
       "\n",
       "       TMC     TMD  ...     PTWS      TW02      TW01    FW03      TW04  \\\n",
       "0  75.8843  74.866  ...  19.3311  539.8597  301.2129  9.4894  539.5955   \n",
       "1  75.8843  74.866  ...  19.3311  539.8597  301.2129  9.4894  539.5955   \n",
       "2  75.8843  74.866  ...  19.3147  539.8597  301.2129  9.4894  539.5955   \n",
       "3  75.8843  74.866  ...  19.3298  539.8597  302.4265  9.4894  539.5955   \n",
       "4  75.8843  74.866  ...  19.3298  539.8597  302.4265  9.4894  539.5955   \n",
       "\n",
       "       TW03     FW04      TTWT     PTWT     PPW  \n",
       "0  290.8920  14.2998  177.7786  10.3202  3.5039  \n",
       "1  290.8920  14.2998  177.7786  10.3202  3.5039  \n",
       "2  292.1826  14.2998  177.7786  10.3202  3.4937  \n",
       "3  292.1826  14.2998  177.7786  10.3202  3.4937  \n",
       "4  292.1826  14.2998  177.7786  10.3202  3.4937  \n",
       "\n",
       "[5 rows x 57 columns]"
      ]
     },
     "execution_count": 5,
     "metadata": {},
     "output_type": "execute_result"
    }
   ],
   "source": [
    "df_learn.head()"
   ]
  },
  {
   "cell_type": "markdown",
   "metadata": {},
   "source": [
    "### Zbiór weryfikacyjny"
   ]
  },
  {
   "cell_type": "code",
   "execution_count": 6,
   "metadata": {},
   "outputs": [
    {
     "data": {
      "text/html": [
       "<div>\n",
       "<style scoped>\n",
       "    .dataframe tbody tr th:only-of-type {\n",
       "        vertical-align: middle;\n",
       "    }\n",
       "\n",
       "    .dataframe tbody tr th {\n",
       "        vertical-align: top;\n",
       "    }\n",
       "\n",
       "    .dataframe thead th {\n",
       "        text-align: right;\n",
       "    }\n",
       "</style>\n",
       "<table border=\"1\" class=\"dataframe\">\n",
       "  <thead>\n",
       "    <tr style=\"text-align: right;\">\n",
       "      <th></th>\n",
       "      <th>date</th>\n",
       "      <th>FP05</th>\n",
       "      <th>LT1</th>\n",
       "      <th>LT2</th>\n",
       "      <th>LT3</th>\n",
       "      <th>LT4</th>\n",
       "      <th>TMA</th>\n",
       "      <th>TMB</th>\n",
       "      <th>TMC</th>\n",
       "      <th>TMD</th>\n",
       "      <th>...</th>\n",
       "      <th>PTWS</th>\n",
       "      <th>TW02</th>\n",
       "      <th>TW01</th>\n",
       "      <th>FW03</th>\n",
       "      <th>TW04</th>\n",
       "      <th>TW03</th>\n",
       "      <th>FW04</th>\n",
       "      <th>TTWT</th>\n",
       "      <th>PTWT</th>\n",
       "      <th>PPW</th>\n",
       "    </tr>\n",
       "  </thead>\n",
       "  <tbody>\n",
       "    <tr>\n",
       "      <th>0</th>\n",
       "      <td>0</td>\n",
       "      <td>1055.1635</td>\n",
       "      <td>21.5507</td>\n",
       "      <td>12.5797</td>\n",
       "      <td>11.714</td>\n",
       "      <td>20.9103</td>\n",
       "      <td>40.9401</td>\n",
       "      <td>72.2017</td>\n",
       "      <td>72.6573</td>\n",
       "      <td>69.6785</td>\n",
       "      <td>...</td>\n",
       "      <td>19.1031</td>\n",
       "      <td>540.7268</td>\n",
       "      <td>293.7237</td>\n",
       "      <td>10.8584</td>\n",
       "      <td>540.5005</td>\n",
       "      <td>277.3242</td>\n",
       "      <td>16.5933</td>\n",
       "      <td>176.8009</td>\n",
       "      <td>10.1627</td>\n",
       "      <td>3.4616</td>\n",
       "    </tr>\n",
       "    <tr>\n",
       "      <th>1</th>\n",
       "      <td>2</td>\n",
       "      <td>1055.1635</td>\n",
       "      <td>21.5507</td>\n",
       "      <td>12.5797</td>\n",
       "      <td>11.714</td>\n",
       "      <td>20.9103</td>\n",
       "      <td>40.9401</td>\n",
       "      <td>72.2017</td>\n",
       "      <td>72.6573</td>\n",
       "      <td>69.6785</td>\n",
       "      <td>...</td>\n",
       "      <td>19.1031</td>\n",
       "      <td>540.7268</td>\n",
       "      <td>293.7237</td>\n",
       "      <td>10.8584</td>\n",
       "      <td>540.5005</td>\n",
       "      <td>277.3242</td>\n",
       "      <td>16.5933</td>\n",
       "      <td>176.8009</td>\n",
       "      <td>10.1627</td>\n",
       "      <td>3.4616</td>\n",
       "    </tr>\n",
       "    <tr>\n",
       "      <th>2</th>\n",
       "      <td>4</td>\n",
       "      <td>1055.1635</td>\n",
       "      <td>21.5507</td>\n",
       "      <td>12.5797</td>\n",
       "      <td>11.714</td>\n",
       "      <td>20.9103</td>\n",
       "      <td>40.9401</td>\n",
       "      <td>72.2017</td>\n",
       "      <td>72.6573</td>\n",
       "      <td>69.6785</td>\n",
       "      <td>...</td>\n",
       "      <td>19.1031</td>\n",
       "      <td>540.7268</td>\n",
       "      <td>293.7237</td>\n",
       "      <td>10.8584</td>\n",
       "      <td>540.5005</td>\n",
       "      <td>277.3242</td>\n",
       "      <td>16.5933</td>\n",
       "      <td>176.8009</td>\n",
       "      <td>10.1627</td>\n",
       "      <td>3.4616</td>\n",
       "    </tr>\n",
       "    <tr>\n",
       "      <th>3</th>\n",
       "      <td>6</td>\n",
       "      <td>1055.1635</td>\n",
       "      <td>21.5507</td>\n",
       "      <td>12.5797</td>\n",
       "      <td>11.714</td>\n",
       "      <td>20.9103</td>\n",
       "      <td>40.9401</td>\n",
       "      <td>72.2017</td>\n",
       "      <td>72.6573</td>\n",
       "      <td>69.6785</td>\n",
       "      <td>...</td>\n",
       "      <td>19.1031</td>\n",
       "      <td>540.7268</td>\n",
       "      <td>293.7237</td>\n",
       "      <td>10.8584</td>\n",
       "      <td>540.5005</td>\n",
       "      <td>277.3242</td>\n",
       "      <td>16.5933</td>\n",
       "      <td>176.8009</td>\n",
       "      <td>10.1627</td>\n",
       "      <td>3.4616</td>\n",
       "    </tr>\n",
       "    <tr>\n",
       "      <th>4</th>\n",
       "      <td>8</td>\n",
       "      <td>1055.1635</td>\n",
       "      <td>21.5507</td>\n",
       "      <td>12.5797</td>\n",
       "      <td>11.714</td>\n",
       "      <td>20.9103</td>\n",
       "      <td>40.9401</td>\n",
       "      <td>72.2017</td>\n",
       "      <td>72.6573</td>\n",
       "      <td>69.6785</td>\n",
       "      <td>...</td>\n",
       "      <td>19.0894</td>\n",
       "      <td>540.7268</td>\n",
       "      <td>293.7237</td>\n",
       "      <td>10.8584</td>\n",
       "      <td>540.5005</td>\n",
       "      <td>277.3242</td>\n",
       "      <td>16.5933</td>\n",
       "      <td>176.8009</td>\n",
       "      <td>10.1627</td>\n",
       "      <td>3.4616</td>\n",
       "    </tr>\n",
       "  </tbody>\n",
       "</table>\n",
       "<p>5 rows × 57 columns</p>\n",
       "</div>"
      ],
      "text/plain": [
       "   date       FP05      LT1      LT2     LT3      LT4      TMA      TMB  \\\n",
       "0     0  1055.1635  21.5507  12.5797  11.714  20.9103  40.9401  72.2017   \n",
       "1     2  1055.1635  21.5507  12.5797  11.714  20.9103  40.9401  72.2017   \n",
       "2     4  1055.1635  21.5507  12.5797  11.714  20.9103  40.9401  72.2017   \n",
       "3     6  1055.1635  21.5507  12.5797  11.714  20.9103  40.9401  72.2017   \n",
       "4     8  1055.1635  21.5507  12.5797  11.714  20.9103  40.9401  72.2017   \n",
       "\n",
       "       TMC      TMD  ...     PTWS      TW02      TW01     FW03      TW04  \\\n",
       "0  72.6573  69.6785  ...  19.1031  540.7268  293.7237  10.8584  540.5005   \n",
       "1  72.6573  69.6785  ...  19.1031  540.7268  293.7237  10.8584  540.5005   \n",
       "2  72.6573  69.6785  ...  19.1031  540.7268  293.7237  10.8584  540.5005   \n",
       "3  72.6573  69.6785  ...  19.1031  540.7268  293.7237  10.8584  540.5005   \n",
       "4  72.6573  69.6785  ...  19.0894  540.7268  293.7237  10.8584  540.5005   \n",
       "\n",
       "       TW03     FW04      TTWT     PTWT     PPW  \n",
       "0  277.3242  16.5933  176.8009  10.1627  3.4616  \n",
       "1  277.3242  16.5933  176.8009  10.1627  3.4616  \n",
       "2  277.3242  16.5933  176.8009  10.1627  3.4616  \n",
       "3  277.3242  16.5933  176.8009  10.1627  3.4616  \n",
       "4  277.3242  16.5933  176.8009  10.1627  3.4616  \n",
       "\n",
       "[5 rows x 57 columns]"
      ]
     },
     "execution_count": 6,
     "metadata": {},
     "output_type": "execute_result"
    }
   ],
   "source": [
    "df_verif.head()"
   ]
  },
  {
   "cell_type": "markdown",
   "metadata": {},
   "source": [
    "### MNK - model liniowy, statyczny"
   ]
  },
  {
   "cell_type": "code",
   "execution_count": 7,
   "metadata": {},
   "outputs": [],
   "source": [
    "u_learn = df_learn.drop([\"LT01\", \"DP\", \"date\"], axis=1).to_numpy()\n",
    "y_learn = df_learn[[\"LT01\", \"DP\"]].to_numpy()\n",
    "\n",
    "u_verif = df_verif.drop([\"LT01\", \"DP\", \"date\"], axis=1).to_numpy()\n",
    "y_verif = df_verif[[\"LT01\", \"DP\"]].to_numpy()\n"
   ]
  },
  {
   "cell_type": "markdown",
   "metadata": {},
   "source": [
    "### Weryfikacja modelu liniowego, statycznego\n"
   ]
  },
  {
   "cell_type": "code",
   "execution_count": 8,
   "metadata": {},
   "outputs": [
    {
     "name": "stdout",
     "output_type": "stream",
     "text": [
      "Score learn: 0.68981181987722\n",
      "Score verif: -6.578488912345968e+18\n"
     ]
    }
   ],
   "source": [
    "reg = LinearRegression().fit(u_learn, y_learn)\n",
    "y_model_learn = reg.predict(u_learn)\n",
    "y_model_verif = reg.predict(u_verif)\n",
    "\n",
    "print(\"Score learn: {}\".format(r2_score(y_learn, y_model_learn)))\n",
    "print(\"Score verif: {}\".format(r2_score(y_verif, y_model_verif)))"
   ]
  },
  {
   "cell_type": "markdown",
   "metadata": {},
   "source": [
    "### Modele nielinowe, dynamiczne"
   ]
  },
  {
   "cell_type": "markdown",
   "metadata": {},
   "source": [
    "Funkcja `createModelMatrix` tworzy macierz A do rozwiązywania zadania najmniejszych kwadratów. Macierz jest postaci:\n",
    "\n",
    "[ y0^1[k] ... y0^D[k] y0^1[k-1] .. y0^D[k-1] ... y0^1[k-N] ... y0^D[k-N] y1^1[k] .... y1^1[k] ... y1^D[k] y1^1[k-1] .. y1^D[k-1] ... y1^1[k-N] ... y1^D[k-N] .... ]"
   ]
  },
  {
   "cell_type": "code",
   "execution_count": 93,
   "metadata": {},
   "outputs": [
    {
     "name": "stdout",
     "output_type": "stream",
     "text": [
      "(998, 216)\n",
      "(999, 54)\n"
     ]
    }
   ],
   "source": [
    "def createModelMatrix(exponent, order, inputs):\n",
    "    samples = inputs.shape[0]\n",
    "    modelVariables = inputs.shape[1]\n",
    "    widthCoefficient = order*exponent\n",
    "    heightAbsoluteTerm = order-1\n",
    "    \n",
    "    A = np.zeros([samples - heightAbsoluteTerm, modelVariables*widthCoefficient])\n",
    "    \n",
    "    for i in range(modelVariables):\n",
    "        for j in range(order):\n",
    "            for k in range(exponent):\n",
    "                colIndex = i*widthCoefficient + j*exponent + k\n",
    "                A[:, colIndex] = np.power(inputs[j:samples-heightAbsoluteTerm+j, i], k+1)\n",
    "    \n",
    "    return A"
   ]
  },
  {
   "cell_type": "code",
   "execution_count": 62,
   "metadata": {},
   "outputs": [
    {
     "data": {
      "text/plain": [
       "array([[0., 0., 0., 0., 0.],\n",
       "       [0., 0., 0., 0., 0.]])"
      ]
     },
     "execution_count": 62,
     "metadata": {},
     "output_type": "execute_result"
    }
   ],
   "source": [
    "\n"
   ]
  }
 ],
 "metadata": {
  "kernelspec": {
   "display_name": "Python 3",
   "language": "python",
   "name": "python3"
  },
  "language_info": {
   "codemirror_mode": {
    "name": "ipython",
    "version": 3
   },
   "file_extension": ".py",
   "mimetype": "text/x-python",
   "name": "python",
   "nbconvert_exporter": "python",
   "pygments_lexer": "ipython3",
   "version": "3.6.8"
  }
 },
 "nbformat": 4,
 "nbformat_minor": 4
}
