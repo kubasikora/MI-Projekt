{
 "cells": [
  {
   "cell_type": "markdown",
   "metadata": {},
   "source": [
    "# Przesukiwanie przestrzeni parametrów stukturalnych modelu za pomocą algorytmu optymalizacji dyskretnej\n"
   ]
  },
  {
   "cell_type": "markdown",
   "metadata": {},
   "source": [
    "Dla każdego wejścia modelu `u_{i}` określamy wektor parametrów `(N_{i}, d_{i}, D_{i})`, gdzie:\n",
    "- `N_{i}` - rząd dynamiki modelu, `N_{i} >= 0`,\n",
    "- `d_{i}` - opóźnienie wejścia, `d_{i} >= 0`,\n",
    "- `D_{i}` - rząd nieliniowości wejścia, `D_{i} > 0`\n",
    "\n",
    "Strukturę modelu danego wyjścia `y_{j}` możemy opisać za pomocą macierzy M\n",
    "\n",
    "`M = [(N_{1}, d_{1}, D_{1}), (N_{2}, d_{2}, D_{2}), ..., (N_{m}, d_{m}, D_{m})]`\n",
    "\n",
    "Struktura macierzy M może zostać dobrana w drodze optymalizacji dyskretnej. Dla danej macierzy M' można zidentyfikować parametry dpowiadające modelowi, przy użyciu metody najmniejszych kwadratów."
   ]
  },
  {
   "cell_type": "markdown",
   "metadata": {},
   "source": [
    "## Zaimportuj potrzebne biblioteki"
   ]
  },
  {
   "cell_type": "code",
   "execution_count": 1,
   "metadata": {},
   "outputs": [
    {
     "name": "stdout",
     "output_type": "stream",
     "text": [
      "pandas version: 1.0.1\n",
      "numpy version: 1.18.2\n",
      "matplotlib version: 3.2.0\n"
     ]
    }
   ],
   "source": [
    "import pandas as pd\n",
    "import numpy as np\n",
    "import matplotlib as mpl\n",
    "import matplotlib.pyplot as plt\n",
    "from scipy import signal\n",
    "%matplotlib inline\n",
    "\n",
    "from sklearn import linear_model\n",
    "from sklearn.metrics import r2_score\n",
    "from scipy.optimize import differential_evolution \n",
    "\n",
    "print(\"pandas version: {}\".format(pd.__version__))\n",
    "print(\"numpy version: {}\".format(np.__version__))\n",
    "print(\"matplotlib version: {}\".format(mpl.__version__))"
   ]
  },
  {
   "cell_type": "markdown",
   "metadata": {},
   "source": [
    "## Przygotuj dane uczące i weryfikacyjne\n"
   ]
  },
  {
   "cell_type": "code",
   "execution_count": 34,
   "metadata": {},
   "outputs": [],
   "source": [
    "def changeDateToSeconds(df):\n",
    "    first = df[\"date\"][0]\n",
    "    df[\"date\"] = df[\"date\"].apply(lambda timestamp: (timestamp-first).seconds)\n",
    "    return df\n",
    "\n",
    "def readDataFromExcel(path, sheet):\n",
    "    df = pd.read_excel(path, sheet_name=sheet)\n",
    "    df[\"date\"] = pd.to_datetime(df[\"date\"])\n",
    "    df = changeDateToSeconds(df)\n",
    "    return df\n",
    "\n",
    "df_learn = readDataFromExcel(\"./data/K-1_MI.xlsx\", \"d2\")\n",
    "df_verif = readDataFromExcel(\"./data/K-1_MI.xlsx\", \"d6\")\n",
    "\n",
    "inputs = [\"FWF\", \"PTWT\"]\n",
    "outputs = [\"LT01\"]\n",
    "\n",
    "def applyMedianFilter(dataFrame, kernelSize):\n",
    "    cols = dataFrame.shape[1]\n",
    "    for col in range(cols):\n",
    "        dataFrame[:,col] = signal.medfilt(dataFrame[:,col], kernelSize)\n",
    "    return dataFrame"
   ]
  },
  {
   "cell_type": "markdown",
   "metadata": {},
   "source": [
    "## Przygotuj macierz A do zadania najmniejszych kwadratów"
   ]
  },
  {
   "cell_type": "markdown",
   "metadata": {},
   "source": [
    "### Przygotuj wejście i wyjście"
   ]
  },
  {
   "cell_type": "code",
   "execution_count": 35,
   "metadata": {},
   "outputs": [],
   "source": [
    "def prepareSignals(df, inputs, output, medfilt=False, kernelSize=11):\n",
    "    inputSignals = df[inputs]\n",
    "    outputSignal = df[output]\n",
    "    inputFrame = pd.concat([inputSignals, outputSignal.shift(1)], axis=1).iloc[1:]\n",
    "\n",
    "    if(medfilt == True):\n",
    "        u_signals = applyMedianFilter(inputFrame.to_numpy(), kernelSize)\n",
    "        y_signal = applyMedianFilter(df[output].iloc[1:].to_numpy(), kernelSize)\n",
    "\n",
    "    else:\n",
    "        u_signals = inputFrame.to_numpy()\n",
    "        y_signal =  df[output].iloc[1:].to_numpy()\n",
    "        \n",
    "    return (u_signals, y_signal)"
   ]
  },
  {
   "cell_type": "markdown",
   "metadata": {},
   "source": [
    "### Macierz dla pojedynczego wejścia"
   ]
  },
  {
   "cell_type": "code",
   "execution_count": 36,
   "metadata": {},
   "outputs": [],
   "source": [
    "def createModelMatrixForSingleInput(data, order, delay, exponent):\n",
    "    if(order < 0 or delay < 0 or exponent <= 0):\n",
    "        raise AssertionError(\"Invalid structure parameter\")\n",
    "        \n",
    "    samples = data.shape[0]\n",
    "    widthCoefficient = (order + 1)*exponent\n",
    "    heightAbsoluteTerm = order + delay\n",
    "    \n",
    "    A = np.zeros([samples - heightAbsoluteTerm, widthCoefficient])\n",
    "    \n",
    "    for j in range(order+1):\n",
    "        for k in range(exponent):\n",
    "            colIndex = (order-j)*exponent + k\n",
    "            A[:, colIndex] = np.power(data[j : samples-heightAbsoluteTerm+j], k+1)\n",
    "    \n",
    "    return A"
   ]
  },
  {
   "cell_type": "markdown",
   "metadata": {},
   "source": [
    "### Macierz dla wszystkich wejść obiektu"
   ]
  },
  {
   "cell_type": "code",
   "execution_count": 37,
   "metadata": {},
   "outputs": [],
   "source": [
    "def findMinDelayAndOrder(M):\n",
    "    minDelay = 1000; minOrder = 1000\n",
    "    for index, parameters in enumerate(M.T):\n",
    "        order, delay, exponent = parameters\n",
    "        if(order < minOrder):\n",
    "            minOrder = order\n",
    "        if(delay < minDelay):\n",
    "            minDelay = delay\n",
    "    \n",
    "    return minDelay, minOrder\n",
    "\n",
    "def findMaxDelayAndOrder(M):\n",
    "    maxDelay = 0; maxOrder = 0\n",
    "    for index, parameters in enumerate(M.T):\n",
    "        order, delay, exponent = parameters\n",
    "        if(order > maxOrder):\n",
    "            maxOrder = order\n",
    "        if(delay > maxDelay):\n",
    "            maxDelay = delay\n",
    "    \n",
    "    return maxDelay, maxOrder\n",
    "\n",
    "def createModelMatrix(data, M):\n",
    "    if(M.shape[0] != 3):\n",
    "        raise AssertionError(\"Invalid parameter vector size\")\n",
    "\n",
    "    if(M.shape[1] != data.shape[1]):\n",
    "        raise AssertionError(\"Mismatched size of data: {} and M: {} vector\".format(data.shape, M.shape))\n",
    "        \n",
    "    inputs = M.shape[1]\n",
    "    height = data.shape[0]\n",
    "    \n",
    "    maxDelay, maxOrder = findMaxDelayAndOrder(M)\n",
    "    minDelay, minOrder = findMinDelayAndOrder(M)\n",
    "    A = np.empty(shape=(height-maxOrder-maxDelay, 0)) \n",
    "    for index, parameters in enumerate(M.T):\n",
    "        # stworz macierz dla danego wejscia\n",
    "        inputData = data[:, index]\n",
    "        order, delay, exponent = parameters\n",
    "        Ap = createModelMatrixForSingleInput(data[:, index], order, delay, exponent)\n",
    "        \n",
    "        # obetnij macierz - delay od góry, a order od dołu macierzy\n",
    "        delayMaxDiff = np.abs(maxDelay-delay)\n",
    "        orderMaxDiff = np.abs(maxOrder-order)\n",
    "        baseHeight = Ap.shape[0]\n",
    "        validA = Ap[orderMaxDiff+delayMaxDiff:]\n",
    "        validA = validA[:A.shape[0]]\n",
    "        \n",
    "        # dodaj do akumulatora\n",
    "        A = np.concatenate((A, validA), axis=1)\n",
    "        \n",
    "    return A"
   ]
  },
  {
   "cell_type": "markdown",
   "metadata": {},
   "source": [
    "## Optymalizacja dyskretna struktury modelu"
   ]
  },
  {
   "cell_type": "markdown",
   "metadata": {},
   "source": [
    "### Funkcja celu :: Macierz struktury -> Wynik modelu"
   ]
  },
  {
   "cell_type": "code",
   "execution_count": 1,
   "metadata": {
    "scrolled": true
   },
   "outputs": [],
   "source": [
    "def evalModelScore(M, u_learn, y_learn, u_verif, y_verif):\n",
    "    maxDelay, maxOrder = findMaxDelayAndOrder(M)   \n",
    "\n",
    "    numberOfSamples = y_learn.shape[0]\n",
    "    output_learn_cut = y_learn[maxDelay : numberOfSamples - maxOrder]\n",
    "    output_verif_cut = y_verif[maxDelay : numberOfSamples - maxOrder]\n",
    "    \n",
    "    A_learn = createModelMatrix(u_learn, M)\n",
    "    model = linear_model.LinearRegression().fit(A_learn, output_learn_cut)\n",
    "#     model = linear_model.Ridge(alpha=1.0, normalize=True).fit(A_learn, output_learn_cut)\n",
    "   \n",
    "    data_idx = maxOrder+maxDelay+1\n",
    "    u_verif_wip = np.array(u_verif[0:data_idx],copy=True)\n",
    "    A_verif = createModelMatrix(u_verif_wip, M)\n",
    "    \n",
    "    model_outputs = np.array([])\n",
    "    for i in range(data_idx, data_idx+len(output_learn_cut)):\n",
    "        output_model_verif = model.predict(A_verif)\n",
    "        model_outputs = np.append(model_outputs, output_model_verif)\n",
    "        u_verif_wip = np.vstack((u_verif_wip, u_verif[data_idx:data_idx+1]))[1:]\n",
    "        data_idx += 1\n",
    "        u_verif_wip[-1][-1] = output_model_verif[-1]\n",
    "        A_verif = createModelMatrix(u_verif_wip, M) \n",
    "        \n",
    "    verif_score = r2_score(output_verif_cut, model_outputs)\n",
    "    return model, verif_score"
   ]
  },
  {
   "cell_type": "markdown",
   "metadata": {},
   "source": [
    "### Sformułuj zadanie optymalizacji"
   ]
  },
  {
   "cell_type": "code",
   "execution_count": 39,
   "metadata": {},
   "outputs": [],
   "source": [
    "inputs = [\"FWF\", \"PP\", \"DP\"]\n",
    "output = [\"LT01\"]\n",
    "\n",
    "u_learn, y_learn = prepareSignals(df_learn, inputs, output, medfilt=True, kernelSize=7)\n",
    "u_verif, y_verif = prepareSignals(df_verif, inputs, output)\n",
    "\n",
    "def goalFunction(x):\n",
    "    # zbuduj macierz M na podstawie wektora x\n",
    "    M = np.empty(shape=(3, len(inputs) + 1), dtype=np.int32)\n",
    "    for index, value in enumerate(x):\n",
    "        row = index % 3; col = index // 3\n",
    "        M[row, col] = int(value)\n",
    "    \n",
    "    model, score = evalModelScore(M, u_learn, y_learn, u_verif, y_verif)\n",
    "    return (-1)*score"
   ]
  },
  {
   "cell_type": "markdown",
   "metadata": {},
   "source": [
    "### Znajdź parametry modelu"
   ]
  },
  {
   "cell_type": "code",
   "execution_count": null,
   "metadata": {
    "scrolled": true
   },
   "outputs": [
    {
     "name": "stdout",
     "output_type": "stream",
     "text": [
      "differential_evolution step 1: f(x)= -0.316134\n"
     ]
    },
    {
     "name": "stderr",
     "output_type": "stream",
     "text": [
      "/home/sikora/.local/share/virtualenvs/MI-Projekt-UmR5Tu2T/lib/python3.6/site-packages/numpy/core/_methods.py:195: RuntimeWarning: overflow encountered in multiply\n",
      "  x = um.multiply(x, x, out=x)\n"
     ]
    },
    {
     "name": "stdout",
     "output_type": "stream",
     "text": [
      "differential_evolution step 2: f(x)= -0.316134\n"
     ]
    },
    {
     "name": "stderr",
     "output_type": "stream",
     "text": [
      "/home/sikora/.local/share/virtualenvs/MI-Projekt-UmR5Tu2T/lib/python3.6/site-packages/numpy/core/_methods.py:195: RuntimeWarning: overflow encountered in multiply\n",
      "  x = um.multiply(x, x, out=x)\n"
     ]
    },
    {
     "name": "stdout",
     "output_type": "stream",
     "text": [
      "differential_evolution step 3: f(x)= -0.399615\n",
      "differential_evolution step 4: f(x)= -0.399615\n",
      "differential_evolution step 5: f(x)= -0.399615\n",
      "differential_evolution step 6: f(x)= -0.399615\n",
      "differential_evolution step 7: f(x)= -0.405155\n",
      "differential_evolution step 8: f(x)= -0.405155\n",
      "differential_evolution step 9: f(x)= -0.405155\n",
      "differential_evolution step 10: f(x)= -0.40986\n",
      "differential_evolution step 11: f(x)= -0.40986\n",
      "differential_evolution step 12: f(x)= -0.41702\n",
      "differential_evolution step 13: f(x)= -0.41702\n",
      "differential_evolution step 14: f(x)= -0.420428\n",
      "differential_evolution step 15: f(x)= -0.420428\n"
     ]
    }
   ],
   "source": [
    "bounds = [(0, 10), (0,50), (1, 2)]*(len(inputs) + 1)\n",
    "bounds[-2] = (1,1)\n",
    "result = differential_evolution(goalFunction, bounds, disp=True, polish=False, tol=1.0)"
   ]
  },
  {
   "cell_type": "code",
   "execution_count": 1,
   "metadata": {},
   "outputs": [
    {
     "ename": "NameError",
     "evalue": "name 'np' is not defined",
     "output_type": "error",
     "traceback": [
      "\u001b[0;31m---------------------------------------------------------------------------\u001b[0m",
      "\u001b[0;31mNameError\u001b[0m                                 Traceback (most recent call last)",
      "\u001b[0;32m<ipython-input-1-a76c01fa6af2>\u001b[0m in \u001b[0;36m<module>\u001b[0;34m\u001b[0m\n\u001b[0;32m----> 1\u001b[0;31m \u001b[0moptimM\u001b[0m \u001b[0;34m=\u001b[0m \u001b[0mnp\u001b[0m\u001b[0;34m.\u001b[0m\u001b[0mempty\u001b[0m\u001b[0;34m(\u001b[0m\u001b[0mshape\u001b[0m\u001b[0;34m=\u001b[0m\u001b[0;34m(\u001b[0m\u001b[0;36m3\u001b[0m\u001b[0;34m,\u001b[0m \u001b[0mlen\u001b[0m\u001b[0;34m(\u001b[0m\u001b[0minputs\u001b[0m\u001b[0;34m)\u001b[0m \u001b[0;34m+\u001b[0m \u001b[0;36m1\u001b[0m\u001b[0;34m)\u001b[0m\u001b[0;34m,\u001b[0m \u001b[0mdtype\u001b[0m\u001b[0;34m=\u001b[0m\u001b[0mnp\u001b[0m\u001b[0;34m.\u001b[0m\u001b[0mint32\u001b[0m\u001b[0;34m)\u001b[0m\u001b[0;34m\u001b[0m\u001b[0;34m\u001b[0m\u001b[0m\n\u001b[0m\u001b[1;32m      2\u001b[0m \u001b[0;32mfor\u001b[0m \u001b[0mindex\u001b[0m\u001b[0;34m,\u001b[0m \u001b[0mvalue\u001b[0m \u001b[0;32min\u001b[0m \u001b[0menumerate\u001b[0m\u001b[0;34m(\u001b[0m\u001b[0mresult\u001b[0m\u001b[0;34m.\u001b[0m\u001b[0mx\u001b[0m\u001b[0;34m)\u001b[0m\u001b[0;34m:\u001b[0m\u001b[0;34m\u001b[0m\u001b[0;34m\u001b[0m\u001b[0m\n\u001b[1;32m      3\u001b[0m     \u001b[0mrow\u001b[0m \u001b[0;34m=\u001b[0m \u001b[0mindex\u001b[0m \u001b[0;34m%\u001b[0m \u001b[0;36m3\u001b[0m\u001b[0;34m;\u001b[0m \u001b[0mcol\u001b[0m \u001b[0;34m=\u001b[0m \u001b[0mindex\u001b[0m \u001b[0;34m//\u001b[0m \u001b[0;36m3\u001b[0m\u001b[0;34m\u001b[0m\u001b[0;34m\u001b[0m\u001b[0m\n\u001b[1;32m      4\u001b[0m     \u001b[0moptimM\u001b[0m\u001b[0;34m[\u001b[0m\u001b[0mrow\u001b[0m\u001b[0;34m,\u001b[0m \u001b[0mcol\u001b[0m\u001b[0;34m]\u001b[0m \u001b[0;34m=\u001b[0m \u001b[0mint\u001b[0m\u001b[0;34m(\u001b[0m\u001b[0mvalue\u001b[0m\u001b[0;34m)\u001b[0m\u001b[0;34m\u001b[0m\u001b[0;34m\u001b[0m\u001b[0m\n\u001b[1;32m      5\u001b[0m \u001b[0mprint\u001b[0m\u001b[0;34m(\u001b[0m\u001b[0moptimM\u001b[0m\u001b[0;34m)\u001b[0m\u001b[0;34m\u001b[0m\u001b[0;34m\u001b[0m\u001b[0m\n",
      "\u001b[0;31mNameError\u001b[0m: name 'np' is not defined"
     ]
    }
   ],
   "source": [
    "optimM = np.empty(shape=(3, len(inputs) + 1), dtype=np.int32)\n",
    "for index, value in enumerate(result.x):\n",
    "    row = index % 3; col = index // 3\n",
    "    optimM[row, col] = int(value)\n",
    "print(optimM)\n",
    "\n",
    "u_learn, y_learn = prepareSignals(df_learn, inputs, output, medfilt=True, kernelSize=7)\n",
    "u_verif, y_verif = prepareSignals(df_verif, inputs, output)\n",
    "model, score = evalModelScore(optimM, u_learn, y_learn, u_verif, y_verif)\n",
    "\n",
    "print(model)\n",
    "\n",
    "maxDelay, maxOrder = findMaxDelayAndOrder(optimM)\n",
    "numberOfSamples = y_learn.shape[0]\n",
    "output_learn_cut = y_learn[maxDelay : numberOfSamples - maxOrder]\n",
    "output_verif_cut = y_verif[maxDelay : numberOfSamples - maxOrder]\n",
    "\n",
    "# A_verif = createModelMatrix(u_verif, optimM)\n",
    "A_learn = createModelMatrix(u_learn, optimM)\n",
    "y_model_learn = model.predict(A_learn)\n",
    "# y_model_verif = model.predict(A_verif)\n",
    "\n",
    "data_idx = maxOrder+maxDelay+1\n",
    "u_verif_wip = np.array(u_verif[0:data_idx],copy=True)\n",
    "A_verif = createModelMatrix(u_verif_wip, optimM)\n",
    "    \n",
    "model_outputs = np.array([])\n",
    "for i in range(data_idx, data_idx+len(output_learn_cut)):\n",
    "    output_model_verif = model.predict(A_verif)\n",
    "    model_outputs = np.append(model_outputs, output_model_verif)\n",
    "    u_verif_wip = np.vstack((u_verif_wip, u_verif[data_idx:data_idx+1]))[1:]\n",
    "    data_idx += 1\n",
    "    u_verif_wip[-1][-1] = output_model_verif[-1]\n",
    "    A_verif = createModelMatrix(u_verif_wip, optimM) \n",
    "        \n",
    "verif_score = r2_score(output_verif_cut, model_outputs)\n",
    "print(verif_score)\n",
    "\n",
    "\n",
    "\n",
    "# plot data\n",
    "fig, axs = plt.subplots(2,figsize=(18, 16), dpi= 80, facecolor='w', edgecolor='k')\n",
    "axs[0].plot(output_learn_cut)\n",
    "axs[0].plot(y_model_learn)\n",
    "axs[0].set_title(\"Dane uczące\")\n",
    "axs[1].plot(output_verif_cut)\n",
    "axs[1].plot(model_outputs)\n",
    "axs[1].set_title(\"Dane weryfikacyjne\")\n",
    "plt.rcParams['figure.figsize'] = [15, 20]"
   ]
  },
  {
   "cell_type": "code",
   "execution_count": 10,
   "metadata": {},
   "outputs": [
    {
     "name": "stdout",
     "output_type": "stream",
     "text": [
      "differential_evolution step 1: f(x)= -0.297113\n",
      "differential_evolution step 2: f(x)= -0.312431\n",
      "differential_evolution step 3: f(x)= -0.312431\n",
      "differential_evolution step 4: f(x)= -0.328675\n",
      "differential_evolution step 5: f(x)= -0.328675\n",
      "differential_evolution step 6: f(x)= -0.328675\n"
     ]
    },
    {
     "ename": "KeyboardInterrupt",
     "evalue": "",
     "output_type": "error",
     "traceback": [
      "\u001b[0;31m---------------------------------------------------------------------------\u001b[0m",
      "\u001b[0;31mKeyboardInterrupt\u001b[0m                         Traceback (most recent call last)",
      "\u001b[0;32m<ipython-input-10-10ae5cca4b19>\u001b[0m in \u001b[0;36m<module>\u001b[0;34m\u001b[0m\n\u001b[1;32m      6\u001b[0m \u001b[0;34m\u001b[0m\u001b[0m\n\u001b[1;32m      7\u001b[0m \u001b[0mbounds\u001b[0m \u001b[0;34m=\u001b[0m \u001b[0;34m[\u001b[0m\u001b[0;34m(\u001b[0m\u001b[0;36m0\u001b[0m\u001b[0;34m,\u001b[0m \u001b[0;36m10\u001b[0m\u001b[0;34m)\u001b[0m\u001b[0;34m,\u001b[0m \u001b[0;34m(\u001b[0m\u001b[0;36m0\u001b[0m\u001b[0;34m,\u001b[0m\u001b[0;36m50\u001b[0m\u001b[0;34m)\u001b[0m\u001b[0;34m,\u001b[0m \u001b[0;34m(\u001b[0m\u001b[0;36m1\u001b[0m\u001b[0;34m,\u001b[0m \u001b[0;36m2\u001b[0m\u001b[0;34m)\u001b[0m\u001b[0;34m]\u001b[0m\u001b[0;34m*\u001b[0m\u001b[0;34m(\u001b[0m\u001b[0mlen\u001b[0m\u001b[0;34m(\u001b[0m\u001b[0minputs\u001b[0m\u001b[0;34m)\u001b[0m \u001b[0;34m+\u001b[0m \u001b[0;36m1\u001b[0m\u001b[0;34m)\u001b[0m\u001b[0;34m\u001b[0m\u001b[0;34m\u001b[0m\u001b[0m\n\u001b[0;32m----> 8\u001b[0;31m \u001b[0mresult\u001b[0m \u001b[0;34m=\u001b[0m \u001b[0mdifferential_evolution\u001b[0m\u001b[0;34m(\u001b[0m\u001b[0mgoalFunction\u001b[0m\u001b[0;34m,\u001b[0m \u001b[0mbounds\u001b[0m\u001b[0;34m,\u001b[0m \u001b[0mdisp\u001b[0m\u001b[0;34m=\u001b[0m\u001b[0;32mTrue\u001b[0m\u001b[0;34m,\u001b[0m \u001b[0mpolish\u001b[0m\u001b[0;34m=\u001b[0m\u001b[0;32mFalse\u001b[0m\u001b[0;34m)\u001b[0m\u001b[0;34m\u001b[0m\u001b[0;34m\u001b[0m\u001b[0m\n\u001b[0m\u001b[1;32m      9\u001b[0m \u001b[0;34m\u001b[0m\u001b[0m\n\u001b[1;32m     10\u001b[0m \u001b[0moptimM\u001b[0m \u001b[0;34m=\u001b[0m \u001b[0mnp\u001b[0m\u001b[0;34m.\u001b[0m\u001b[0mempty\u001b[0m\u001b[0;34m(\u001b[0m\u001b[0mshape\u001b[0m\u001b[0;34m=\u001b[0m\u001b[0;34m(\u001b[0m\u001b[0;36m3\u001b[0m\u001b[0;34m,\u001b[0m \u001b[0mlen\u001b[0m\u001b[0;34m(\u001b[0m\u001b[0minputs\u001b[0m\u001b[0;34m)\u001b[0m \u001b[0;34m+\u001b[0m \u001b[0;36m1\u001b[0m\u001b[0;34m)\u001b[0m\u001b[0;34m,\u001b[0m \u001b[0mdtype\u001b[0m\u001b[0;34m=\u001b[0m\u001b[0mnp\u001b[0m\u001b[0;34m.\u001b[0m\u001b[0mint32\u001b[0m\u001b[0;34m)\u001b[0m\u001b[0;34m\u001b[0m\u001b[0;34m\u001b[0m\u001b[0m\n",
      "\u001b[0;32m~/.local/share/virtualenvs/MI-Projekt-UmR5Tu2T/lib/python3.6/site-packages/scipy/optimize/_differentialevolution.py\u001b[0m in \u001b[0;36mdifferential_evolution\u001b[0;34m(func, bounds, args, strategy, maxiter, popsize, tol, mutation, recombination, seed, callback, disp, polish, init, atol, updating, workers, constraints)\u001b[0m\n\u001b[1;32m    304\u001b[0m                                      \u001b[0mworkers\u001b[0m\u001b[0;34m=\u001b[0m\u001b[0mworkers\u001b[0m\u001b[0;34m,\u001b[0m\u001b[0;34m\u001b[0m\u001b[0;34m\u001b[0m\u001b[0m\n\u001b[1;32m    305\u001b[0m                                      constraints=constraints) as solver:\n\u001b[0;32m--> 306\u001b[0;31m         \u001b[0mret\u001b[0m \u001b[0;34m=\u001b[0m \u001b[0msolver\u001b[0m\u001b[0;34m.\u001b[0m\u001b[0msolve\u001b[0m\u001b[0;34m(\u001b[0m\u001b[0;34m)\u001b[0m\u001b[0;34m\u001b[0m\u001b[0;34m\u001b[0m\u001b[0m\n\u001b[0m\u001b[1;32m    307\u001b[0m \u001b[0;34m\u001b[0m\u001b[0m\n\u001b[1;32m    308\u001b[0m     \u001b[0;32mreturn\u001b[0m \u001b[0mret\u001b[0m\u001b[0;34m\u001b[0m\u001b[0;34m\u001b[0m\u001b[0m\n",
      "\u001b[0;32m~/.local/share/virtualenvs/MI-Projekt-UmR5Tu2T/lib/python3.6/site-packages/scipy/optimize/_differentialevolution.py\u001b[0m in \u001b[0;36msolve\u001b[0;34m(self)\u001b[0m\n\u001b[1;32m    751\u001b[0m             \u001b[0;31m# evolve the population by a generation\u001b[0m\u001b[0;34m\u001b[0m\u001b[0;34m\u001b[0m\u001b[0;34m\u001b[0m\u001b[0m\n\u001b[1;32m    752\u001b[0m             \u001b[0;32mtry\u001b[0m\u001b[0;34m:\u001b[0m\u001b[0;34m\u001b[0m\u001b[0;34m\u001b[0m\u001b[0m\n\u001b[0;32m--> 753\u001b[0;31m                 \u001b[0mnext\u001b[0m\u001b[0;34m(\u001b[0m\u001b[0mself\u001b[0m\u001b[0;34m)\u001b[0m\u001b[0;34m\u001b[0m\u001b[0;34m\u001b[0m\u001b[0m\n\u001b[0m\u001b[1;32m    754\u001b[0m             \u001b[0;32mexcept\u001b[0m \u001b[0mStopIteration\u001b[0m\u001b[0;34m:\u001b[0m\u001b[0;34m\u001b[0m\u001b[0;34m\u001b[0m\u001b[0m\n\u001b[1;32m    755\u001b[0m                 \u001b[0mwarning_flag\u001b[0m \u001b[0;34m=\u001b[0m \u001b[0;32mTrue\u001b[0m\u001b[0;34m\u001b[0m\u001b[0;34m\u001b[0m\u001b[0m\n",
      "\u001b[0;32m~/.local/share/virtualenvs/MI-Projekt-UmR5Tu2T/lib/python3.6/site-packages/scipy/optimize/_differentialevolution.py\u001b[0m in \u001b[0;36m__next__\u001b[0;34m(self)\u001b[0m\n\u001b[1;32m   1077\u001b[0m                     \u001b[0mfeasible\u001b[0m \u001b[0;34m=\u001b[0m \u001b[0;32mTrue\u001b[0m\u001b[0;34m\u001b[0m\u001b[0;34m\u001b[0m\u001b[0m\n\u001b[1;32m   1078\u001b[0m                     \u001b[0mcv\u001b[0m \u001b[0;34m=\u001b[0m \u001b[0mnp\u001b[0m\u001b[0;34m.\u001b[0m\u001b[0matleast_2d\u001b[0m\u001b[0;34m(\u001b[0m\u001b[0;34m[\u001b[0m\u001b[0;36m0.\u001b[0m\u001b[0;34m]\u001b[0m\u001b[0;34m)\u001b[0m\u001b[0;34m\u001b[0m\u001b[0;34m\u001b[0m\u001b[0m\n\u001b[0;32m-> 1079\u001b[0;31m                     \u001b[0menergy\u001b[0m \u001b[0;34m=\u001b[0m \u001b[0mself\u001b[0m\u001b[0;34m.\u001b[0m\u001b[0mfunc\u001b[0m\u001b[0;34m(\u001b[0m\u001b[0mparameters\u001b[0m\u001b[0;34m)\u001b[0m\u001b[0;34m\u001b[0m\u001b[0;34m\u001b[0m\u001b[0m\n\u001b[0m\u001b[1;32m   1080\u001b[0m                     \u001b[0mself\u001b[0m\u001b[0;34m.\u001b[0m\u001b[0m_nfev\u001b[0m \u001b[0;34m+=\u001b[0m \u001b[0;36m1\u001b[0m\u001b[0;34m\u001b[0m\u001b[0;34m\u001b[0m\u001b[0m\n\u001b[1;32m   1081\u001b[0m \u001b[0;34m\u001b[0m\u001b[0m\n",
      "\u001b[0;32m~/.local/share/virtualenvs/MI-Projekt-UmR5Tu2T/lib/python3.6/site-packages/scipy/optimize/_differentialevolution.py\u001b[0m in \u001b[0;36m__call__\u001b[0;34m(self, x)\u001b[0m\n\u001b[1;32m   1263\u001b[0m \u001b[0;34m\u001b[0m\u001b[0m\n\u001b[1;32m   1264\u001b[0m     \u001b[0;32mdef\u001b[0m \u001b[0m__call__\u001b[0m\u001b[0;34m(\u001b[0m\u001b[0mself\u001b[0m\u001b[0;34m,\u001b[0m \u001b[0mx\u001b[0m\u001b[0;34m)\u001b[0m\u001b[0;34m:\u001b[0m\u001b[0;34m\u001b[0m\u001b[0;34m\u001b[0m\u001b[0m\n\u001b[0;32m-> 1265\u001b[0;31m         \u001b[0;32mreturn\u001b[0m \u001b[0mself\u001b[0m\u001b[0;34m.\u001b[0m\u001b[0mf\u001b[0m\u001b[0;34m(\u001b[0m\u001b[0mx\u001b[0m\u001b[0;34m,\u001b[0m \u001b[0;34m*\u001b[0m\u001b[0mself\u001b[0m\u001b[0;34m.\u001b[0m\u001b[0margs\u001b[0m\u001b[0;34m)\u001b[0m\u001b[0;34m\u001b[0m\u001b[0;34m\u001b[0m\u001b[0m\n\u001b[0m\u001b[1;32m   1266\u001b[0m \u001b[0;34m\u001b[0m\u001b[0m\n\u001b[1;32m   1267\u001b[0m \u001b[0;34m\u001b[0m\u001b[0m\n",
      "\u001b[0;32m<ipython-input-7-c7256100d9d3>\u001b[0m in \u001b[0;36mgoalFunction\u001b[0;34m(x)\u001b[0m\n\u001b[1;32m     12\u001b[0m         \u001b[0mM\u001b[0m\u001b[0;34m[\u001b[0m\u001b[0mrow\u001b[0m\u001b[0;34m,\u001b[0m \u001b[0mcol\u001b[0m\u001b[0;34m]\u001b[0m \u001b[0;34m=\u001b[0m \u001b[0mint\u001b[0m\u001b[0;34m(\u001b[0m\u001b[0mvalue\u001b[0m\u001b[0;34m)\u001b[0m\u001b[0;34m\u001b[0m\u001b[0;34m\u001b[0m\u001b[0m\n\u001b[1;32m     13\u001b[0m \u001b[0;34m\u001b[0m\u001b[0m\n\u001b[0;32m---> 14\u001b[0;31m     \u001b[0mmodel\u001b[0m\u001b[0;34m,\u001b[0m \u001b[0mscore\u001b[0m \u001b[0;34m=\u001b[0m \u001b[0mevalModelScore\u001b[0m\u001b[0;34m(\u001b[0m\u001b[0mM\u001b[0m\u001b[0;34m,\u001b[0m \u001b[0mu_learn\u001b[0m\u001b[0;34m,\u001b[0m \u001b[0my_learn\u001b[0m\u001b[0;34m,\u001b[0m \u001b[0mu_verif\u001b[0m\u001b[0;34m,\u001b[0m \u001b[0my_verif\u001b[0m\u001b[0;34m)\u001b[0m\u001b[0;34m\u001b[0m\u001b[0;34m\u001b[0m\u001b[0m\n\u001b[0m\u001b[1;32m     15\u001b[0m     \u001b[0;32mreturn\u001b[0m \u001b[0;34m(\u001b[0m\u001b[0;34m-\u001b[0m\u001b[0;36m1\u001b[0m\u001b[0;34m)\u001b[0m\u001b[0;34m*\u001b[0m\u001b[0mscore\u001b[0m\u001b[0;34m\u001b[0m\u001b[0;34m\u001b[0m\u001b[0m\n",
      "\u001b[0;32m<ipython-input-6-68a3d55e641b>\u001b[0m in \u001b[0;36mevalModelScore\u001b[0;34m(M, u_learn, y_learn, u_verif, y_verif)\u001b[0m\n\u001b[1;32m     17\u001b[0m     \u001b[0;32mfor\u001b[0m \u001b[0mi\u001b[0m \u001b[0;32min\u001b[0m \u001b[0mrange\u001b[0m\u001b[0;34m(\u001b[0m\u001b[0mdata_idx\u001b[0m\u001b[0;34m,\u001b[0m \u001b[0mdata_idx\u001b[0m\u001b[0;34m+\u001b[0m\u001b[0mlen\u001b[0m\u001b[0;34m(\u001b[0m\u001b[0moutput_learn_cut\u001b[0m\u001b[0;34m)\u001b[0m\u001b[0;34m)\u001b[0m\u001b[0;34m:\u001b[0m\u001b[0;34m\u001b[0m\u001b[0;34m\u001b[0m\u001b[0m\n\u001b[1;32m     18\u001b[0m         \u001b[0moutput_model_verif\u001b[0m \u001b[0;34m=\u001b[0m \u001b[0mmodel\u001b[0m\u001b[0;34m.\u001b[0m\u001b[0mpredict\u001b[0m\u001b[0;34m(\u001b[0m\u001b[0mA_verif\u001b[0m\u001b[0;34m)\u001b[0m\u001b[0;34m\u001b[0m\u001b[0;34m\u001b[0m\u001b[0m\n\u001b[0;32m---> 19\u001b[0;31m         \u001b[0mmodel_outputs\u001b[0m \u001b[0;34m=\u001b[0m \u001b[0mnp\u001b[0m\u001b[0;34m.\u001b[0m\u001b[0mappend\u001b[0m\u001b[0;34m(\u001b[0m\u001b[0mmodel_outputs\u001b[0m\u001b[0;34m,\u001b[0m \u001b[0moutput_model_verif\u001b[0m\u001b[0;34m)\u001b[0m\u001b[0;34m\u001b[0m\u001b[0;34m\u001b[0m\u001b[0m\n\u001b[0m\u001b[1;32m     20\u001b[0m         \u001b[0mu_verif_wip\u001b[0m \u001b[0;34m=\u001b[0m \u001b[0mnp\u001b[0m\u001b[0;34m.\u001b[0m\u001b[0mvstack\u001b[0m\u001b[0;34m(\u001b[0m\u001b[0;34m(\u001b[0m\u001b[0mu_verif_wip\u001b[0m\u001b[0;34m,\u001b[0m \u001b[0mu_verif\u001b[0m\u001b[0;34m[\u001b[0m\u001b[0mdata_idx\u001b[0m\u001b[0;34m:\u001b[0m\u001b[0mdata_idx\u001b[0m\u001b[0;34m+\u001b[0m\u001b[0;36m1\u001b[0m\u001b[0;34m]\u001b[0m\u001b[0;34m)\u001b[0m\u001b[0;34m)\u001b[0m\u001b[0;34m[\u001b[0m\u001b[0;36m1\u001b[0m\u001b[0;34m:\u001b[0m\u001b[0;34m]\u001b[0m\u001b[0;34m\u001b[0m\u001b[0;34m\u001b[0m\u001b[0m\n\u001b[1;32m     21\u001b[0m         \u001b[0mdata_idx\u001b[0m \u001b[0;34m+=\u001b[0m \u001b[0;36m1\u001b[0m\u001b[0;34m\u001b[0m\u001b[0;34m\u001b[0m\u001b[0m\n",
      "\u001b[0;32m<__array_function__ internals>\u001b[0m in \u001b[0;36mappend\u001b[0;34m(*args, **kwargs)\u001b[0m\n",
      "\u001b[0;32m~/.local/share/virtualenvs/MI-Projekt-UmR5Tu2T/lib/python3.6/site-packages/numpy/lib/function_base.py\u001b[0m in \u001b[0;36mappend\u001b[0;34m(arr, values, axis)\u001b[0m\n\u001b[1;32m   4691\u001b[0m         \u001b[0mvalues\u001b[0m \u001b[0;34m=\u001b[0m \u001b[0mravel\u001b[0m\u001b[0;34m(\u001b[0m\u001b[0mvalues\u001b[0m\u001b[0;34m)\u001b[0m\u001b[0;34m\u001b[0m\u001b[0;34m\u001b[0m\u001b[0m\n\u001b[1;32m   4692\u001b[0m         \u001b[0maxis\u001b[0m \u001b[0;34m=\u001b[0m \u001b[0marr\u001b[0m\u001b[0;34m.\u001b[0m\u001b[0mndim\u001b[0m\u001b[0;34m-\u001b[0m\u001b[0;36m1\u001b[0m\u001b[0;34m\u001b[0m\u001b[0;34m\u001b[0m\u001b[0m\n\u001b[0;32m-> 4693\u001b[0;31m     \u001b[0;32mreturn\u001b[0m \u001b[0mconcatenate\u001b[0m\u001b[0;34m(\u001b[0m\u001b[0;34m(\u001b[0m\u001b[0marr\u001b[0m\u001b[0;34m,\u001b[0m \u001b[0mvalues\u001b[0m\u001b[0;34m)\u001b[0m\u001b[0;34m,\u001b[0m \u001b[0maxis\u001b[0m\u001b[0;34m=\u001b[0m\u001b[0maxis\u001b[0m\u001b[0;34m)\u001b[0m\u001b[0;34m\u001b[0m\u001b[0;34m\u001b[0m\u001b[0m\n\u001b[0m\u001b[1;32m   4694\u001b[0m \u001b[0;34m\u001b[0m\u001b[0m\n\u001b[1;32m   4695\u001b[0m \u001b[0;34m\u001b[0m\u001b[0m\n",
      "\u001b[0;32m<__array_function__ internals>\u001b[0m in \u001b[0;36mconcatenate\u001b[0;34m(*args, **kwargs)\u001b[0m\n",
      "\u001b[0;31mKeyboardInterrupt\u001b[0m: "
     ]
    }
   ],
   "source": [
    "inputs = []\n",
    "output = [\"DP\"]\n",
    "\n",
    "u_learn, y_learn = prepareSignals(df_learn, inputs, output, medfilt=True, kernelSize=11)\n",
    "u_verif, y_verif = prepareSignals(df_verif, inputs, output)\n",
    "\n",
    "bounds = [(0, 10), (0,50), (1, 2)]*(len(inputs) + 1)\n",
    "result = differential_evolution(goalFunction, bounds, disp=True, polish=False)\n",
    "\n",
    "optimM = np.empty(shape=(3, len(inputs) + 1), dtype=np.int32)\n",
    "for index, value in enumerate(result.x):\n",
    "    row = index % 3; col = index // 3\n",
    "    optimM[row, col] = int(value)\n",
    "print(optimM)\n",
    "\n",
    "u_learn, y_learn = prepareSignals(df_learn, inputs, output)\n",
    "u_verif, y_verif = prepareSignals(df_verif, inputs, output)\n",
    "model, score = evalModelScore(optimM, u_learn, y_learn, u_verif, y_verif)\n",
    "\n",
    "print(model)\n",
    "\n",
    "A_verif = createModelMatrix(u_verif, optimM)\n",
    "A_learn = createModelMatrix(u_learn, optimM)\n",
    "y_model_learn = model.predict(A_learn)\n",
    "y_model_verif = model.predict(A_verif)\n",
    "\n",
    "maxDelay, maxOrder = findMaxDelayAndOrder(optimM)\n",
    "numberOfSamples = y_learn.shape[0]\n",
    "output_learn_cut = y_learn[maxDelay : numberOfSamples - maxOrder]\n",
    "output_verif_cut = y_verif[maxDelay : numberOfSamples - maxOrder]\n",
    "\n",
    "# plot data\n",
    "fig, axs = plt.subplots(2,figsize=(18, 16), dpi= 80, facecolor='w', edgecolor='k')\n",
    "axs[0].plot(output_learn_cut)\n",
    "axs[0].plot(y_model_learn)\n",
    "axs[0].set_title(\"Dane uczące\")\n",
    "axs[1].plot(output_verif_cut)\n",
    "axs[1].plot(y_model_verif)\n",
    "axs[1].set_title(\"Dane weryfikacyjne\")\n",
    "plt.rcParams['figure.figsize'] = [15, 20]"
   ]
  }
 ],
 "metadata": {
  "kernelspec": {
   "display_name": "Python 3",
   "language": "python",
   "name": "python3"
  },
  "language_info": {
   "codemirror_mode": {
    "name": "ipython",
    "version": 3
   },
   "file_extension": ".py",
   "mimetype": "text/x-python",
   "name": "python",
   "nbconvert_exporter": "python",
   "pygments_lexer": "ipython3",
   "version": "3.6.8"
  }
 },
 "nbformat": 4,
 "nbformat_minor": 4
}
