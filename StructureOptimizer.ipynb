{
 "cells": [
  {
   "cell_type": "markdown",
   "metadata": {},
   "source": [
    "# Przesukiwanie przestrzeni parametrów stukturalnych modelu za pomocą algorytmu optymalizacji dyskretnej\n"
   ]
  },
  {
   "cell_type": "markdown",
   "metadata": {},
   "source": [
    "Dla każdego wejścia modelu `u_{i}` określamy wektor parametrów `(N_{i}, d_{i}, D_{i})`, gdzie:\n",
    "- `N_{i}` - rząd dynamiki modelu, `N_{i} >= 0`,\n",
    "- `d_{i}` - opóźnienie wejścia, `d_{i} >= 0`,\n",
    "- `D_{i}` - rząd nieliniowości wejścia, `D_{i} > 0`\n",
    "\n",
    "Strukturę modelu danego wyjścia `y_{j}` możemy opisać za pomocą macierzy M\n",
    "\n",
    "`M = [(N_{1}, d_{1}, D_{1}), (N_{2}, d_{2}, D_{2}), ..., (N_{m}, d_{m}, D_{m})]`\n",
    "\n",
    "Struktura macierzy M może zostać dobrana w drodze optymalizacji dyskretnej. Dla danej macierzy M' można zidentyfikować parametry dpowiadające modelowi, przy użyciu metody najmniejszych kwadratów."
   ]
  },
  {
   "cell_type": "markdown",
   "metadata": {},
   "source": [
    "## Zaimportuj potrzebne biblioteki"
   ]
  },
  {
   "cell_type": "code",
   "execution_count": 3,
   "metadata": {},
   "outputs": [
    {
     "name": "stdout",
     "output_type": "stream",
     "text": [
      "pandas version: 1.0.1\n",
      "numpy version: 1.18.1\n",
      "matplotlib version: 3.2.0\n"
     ]
    }
   ],
   "source": [
    "import pandas as pd\n",
    "import numpy as np\n",
    "import matplotlib as mpl\n",
    "import matplotlib.pyplot as plt\n",
    "%matplotlib inline\n",
    "\n",
    "from sklearn.linear_model import LinearRegression\n",
    "from sklearn.metrics import r2_score\n",
    "\n",
    "print(\"pandas version: {}\".format(pd.__version__))\n",
    "print(\"numpy version: {}\".format(np.__version__))\n",
    "print(\"matplotlib version: {}\".format(mpl.__version__))"
   ]
  },
  {
   "cell_type": "markdown",
   "metadata": {},
   "source": [
    "## Przygotuj dane uczące i weryfikacyjne\n"
   ]
  },
  {
   "cell_type": "code",
   "execution_count": 368,
   "metadata": {},
   "outputs": [],
   "source": [
    "def changeDateToSeconds(df):\n",
    "    first = df[\"date\"][0]\n",
    "    df[\"date\"] = df[\"date\"].apply(lambda timestamp: (timestamp-first).seconds)\n",
    "    return df\n",
    "\n",
    "def readDataFromExcel(path, sheet):\n",
    "    df = pd.read_excel(path, sheet_name=sheet)\n",
    "    df[\"date\"] = pd.to_datetime(df[\"date\"])\n",
    "    df = changeDateToSeconds(df)\n",
    "    return df\n",
    "\n",
    "df_learn = readDataFromExcel(\"./data/K-1_MI.xlsx\", \"d2\")\n",
    "df_verif = readDataFromExcel(\"./data/K-1_MI.xlsx\", \"d6\")\n",
    "\n",
    "inputs = [\"FWF\", \"PTWT\"]\n",
    "outputs = [\"LT01\"]\n",
    "\n",
    "u_learn = df_learn[inputs].to_numpy()\n",
    "y_learn = df_learn[outputs].to_numpy()\n",
    "\n",
    "u_verif = df_verif[inputs].to_numpy()\n",
    "y_verif = df_verif[outputs].to_numpy()"
   ]
  },
  {
   "cell_type": "markdown",
   "metadata": {},
   "source": [
    "## Przygotuj macierz A do zadania najmniejszych kwadratów"
   ]
  },
  {
   "cell_type": "markdown",
   "metadata": {},
   "source": [
    "### Macierz dla pojedynczego wejścia"
   ]
  },
  {
   "cell_type": "code",
   "execution_count": 347,
   "metadata": {},
   "outputs": [],
   "source": [
    "def createModelMatrixForSingleInput(data, order, delay, exponent):\n",
    "    if(order < 0 or delay < 0 or exponent <= 0):\n",
    "        raise AssertionError(\"Invalid structure parameter\")\n",
    "        \n",
    "    samples = data.shape[0]\n",
    "    widthCoefficient = (order + 1)*exponent\n",
    "    heightAbsoluteTerm = order + delay\n",
    "    \n",
    "    A = np.zeros([samples - heightAbsoluteTerm, widthCoefficient])\n",
    "    \n",
    "    for j in range(order+1):\n",
    "        for k in range(exponent):\n",
    "            colIndex = j*exponent + k\n",
    "            A[:, colIndex] = np.power(data[j+delay : samples-heightAbsoluteTerm+j+delay], k+1)\n",
    "    \n",
    "    return A"
   ]
  },
  {
   "cell_type": "markdown",
   "metadata": {},
   "source": [
    "### Macierz dla wszystkich wejść obiektu"
   ]
  },
  {
   "cell_type": "code",
   "execution_count": 353,
   "metadata": {},
   "outputs": [],
   "source": [
    "def createModelMatrix(data, M):\n",
    "    if(M.shape[0] != 3):\n",
    "        raise AssertionError(\"Invalid parameter vector size\")\n",
    "\n",
    "    if(M.shape[1] != data.shape[1]):\n",
    "        raise AssertionError(\"Mismatched size of data and M vector\")\n",
    "        \n",
    "    inputs = M.shape[1]\n",
    "    height = data.shape[0]\n",
    "    \n",
    "    maxDelay = 0; maxOrder = 0\n",
    "    for index, parameters in enumerate(M.T):\n",
    "        order, delay, exponent = parameters\n",
    "        if(order > maxOrder):\n",
    "            maxOrder = order\n",
    "        if(delay > maxDelay):\n",
    "            maxDelay = delay\n",
    "            \n",
    "    A = np.empty(shape=(height-maxOrder-maxDelay, 0)) \n",
    "    for index, parameters in enumerate(M.T):\n",
    "        # stworz macierz dla danego wejscia\n",
    "        inputData = data[:, index]\n",
    "        order, delay, exponent = parameters\n",
    "        Ap = createModelMatrixForSingleInput(data[:, index], order, delay, exponent)\n",
    "        \n",
    "        # obetnij macierz - delay od góry, a order od dołu macierzy\n",
    "        delayDiff = maxDelay-delay\n",
    "        orderDiff = maxOrder-order\n",
    "        baseHeight = Ap.shape[0]\n",
    "        validA = Ap[delayDiff: baseHeight-orderDiff]\n",
    "        \n",
    "        # dodaj do akumulatora\n",
    "        A = np.concatenate((A, validA), axis=1)\n",
    "        \n",
    "    return A"
   ]
  },
  {
   "cell_type": "code",
   "execution_count": 386,
   "metadata": {},
   "outputs": [
    {
     "name": "stdout",
     "output_type": "stream",
     "text": [
      "learn score: 0.27061438546916117, verif score: -13.527323652935552\n"
     ]
    }
   ],
   "source": [
    "# model structure\n",
    "M = np.array([[5,0,1],[0,5,1]]).transpose()\n",
    "\n",
    "# prepare outputs\n",
    "maxDelay = 0; maxOrder = 0\n",
    "for index, parameters in enumerate(M.T):\n",
    "        order, delay, exponent = parameters\n",
    "        if(order > maxOrder):\n",
    "            maxOrder = order\n",
    "        if(delay > maxDelay):\n",
    "            maxDelay = delay\n",
    "            \n",
    "numberOfSamples = y_learn.shape[0]\n",
    "output_learn_cut = y_learn[maxDelay : numberOfSamples - maxOrder]\n",
    "output_verif_cut = y_verif[maxDelay : numberOfSamples - maxOrder]\n",
    "             \n",
    "A_learn = createModelMatrix(u_learn, M)\n",
    "A_verif = createModelMatrix(u_verif, M)\n",
    "\n",
    "model = LinearRegression().fit(A_learn, output_learn_cut)\n",
    "\n",
    "output_model_learn = model.predict(A_learn)\n",
    "output_model_verif = model.predict(A_verif)\n",
    "        \n",
    "learn_score = r2_score(output_learn_cut, output_model_learn)\n",
    "verif_score = r2_score(output_verif_cut, output_model_verif)\n",
    "      \n",
    "print(\"learn score: {}, verif score: {}\".format(learn_score, verif_score))"
   ]
  }
 ],
 "metadata": {
  "kernelspec": {
   "display_name": "Python 3",
   "language": "python",
   "name": "python3"
  },
  "language_info": {
   "codemirror_mode": {
    "name": "ipython",
    "version": 3
   },
   "file_extension": ".py",
   "mimetype": "text/x-python",
   "name": "python",
   "nbconvert_exporter": "python",
   "pygments_lexer": "ipython3",
   "version": "3.6.8"
  }
 },
 "nbformat": 4,
 "nbformat_minor": 4
}
